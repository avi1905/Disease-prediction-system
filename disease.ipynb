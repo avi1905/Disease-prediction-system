{
 "cells": [
  {
   "cell_type": "code",
   "execution_count": 30,
   "id": "53c29d54",
   "metadata": {},
   "outputs": [],
   "source": [
    "import pandas as pd\n",
    "import numpy as np\n",
    "from sklearn.preprocessing import LabelEncoder \n",
    "from sklearn.feature_selection import SelectKBest, f_regression\n",
    "from sklearn.linear_model import LogisticRegression\n",
    "from sklearn.model_selection import train_test_split\n",
    "from sklearn.ensemble import RandomForestClassifier\n"
   ]
  },
  {
   "cell_type": "code",
   "execution_count": 31,
   "id": "1cf6169c",
   "metadata": {},
   "outputs": [],
   "source": [
    "data=pd.read_csv('training.csv')\n",
    "test=pd.read_csv('testing.csv')"
   ]
  },
  {
   "cell_type": "code",
   "execution_count": 33,
   "id": "a2cedc59",
   "metadata": {},
   "outputs": [
    {
     "name": "stdout",
     "output_type": "stream",
     "text": [
      "   itching  skin_rash  continuous_sneezing  chills  joint_pain  stomach_pain  \\\n",
      "0        1          1                    0       0           0             0   \n",
      "1        0          1                    0       0           0             0   \n",
      "2        1          0                    0       0           0             0   \n",
      "3        1          1                    0       0           0             0   \n",
      "4        1          1                    0       0           0             0   \n",
      "\n",
      "   acidity  ulcers_on_tongue  vomiting  burning_micturition  ...  \\\n",
      "0        0                 0         0                    0  ...   \n",
      "1        0                 0         0                    0  ...   \n",
      "2        0                 0         0                    0  ...   \n",
      "3        0                 0         0                    0  ...   \n",
      "4        0                 0         0                    0  ...   \n",
      "\n",
      "   movement_stiffness  loss_of_balance  muscle_pain  red_spots_over_body  \\\n",
      "0                   0                0            0                    0   \n",
      "1                   0                0            0                    0   \n",
      "2                   0                0            0                    0   \n",
      "3                   0                0            0                    0   \n",
      "4                   0                0            0                    0   \n",
      "\n",
      "   family_history  mucoid_sputum  lack_of_concentration  visual_disturbances  \\\n",
      "0               0              0                      0                    0   \n",
      "1               0              0                      0                    0   \n",
      "2               0              0                      0                    0   \n",
      "3               0              0                      0                    0   \n",
      "4               0              0                      0                    0   \n",
      "\n",
      "   blood_in_sputum         prognosis  \n",
      "0                0  Fungal infection  \n",
      "1                0  Fungal infection  \n",
      "2                0  Fungal infection  \n",
      "3                0  Fungal infection  \n",
      "4                0  Fungal infection  \n",
      "\n",
      "[5 rows x 44 columns]\n"
     ]
    }
   ],
   "source": [
    "threshold = 0.7 # Set your correlation threshold\n",
    "\n",
    "correlation_matrix = data.corr()\n",
    "\n",
    "# Iterate through the correlation matrix and drop highly correlated columns\n",
    "for col in correlation_matrix.columns:\n",
    "    correlated_cols = correlation_matrix.index[correlation_matrix[col] > threshold].tolist()\n",
    "    for correlated_col in correlated_cols:\n",
    "        if col != correlated_col:\n",
    "            if correlated_col in data.columns:\n",
    "                data = data.drop([correlated_col], axis=1)\n",
    "                test=test.drop([correlated_col], axis=1)\n",
    "\n",
    "print(data.head())\n"
   ]
  },
  {
   "cell_type": "code",
   "execution_count": 36,
   "id": "7faadd3e",
   "metadata": {},
   "outputs": [],
   "source": [
    "le =LabelEncoder()\n",
    "cols=['prognosis']\n",
    "for col in cols:\n",
    "    data[col]=le.fit_transform(data[col])\n",
    "    test[col]=le.fit_transform(test[col])"
   ]
  },
  {
   "cell_type": "code",
   "execution_count": 41,
   "id": "88324507",
   "metadata": {},
   "outputs": [],
   "source": [
    "from imblearn.over_sampling import SMOTE"
   ]
  },
  {
   "cell_type": "code",
   "execution_count": 42,
   "id": "7ee7f0ad",
   "metadata": {},
   "outputs": [],
   "source": [
    "X=data.drop(['prognosis'],axis=1)\n",
    "Y=data['prognosis']\n",
    "smote = SMOTE(sampling_strategy='auto', random_state=42)\n",
    "X_resampled, y_resampled = smote.fit_resample(X,Y)\n",
    "\n"
   ]
  },
  {
   "cell_type": "code",
   "execution_count": 45,
   "id": "e4e7208a",
   "metadata": {},
   "outputs": [],
   "source": [
    "testx=test.drop(['prognosis'],axis=1)\n",
    "testy=test['prognosis']"
   ]
  },
  {
   "cell_type": "code",
   "execution_count": 144,
   "id": "f3cdc546",
   "metadata": {},
   "outputs": [
    {
     "data": {
      "text/plain": [
       "1.0"
      ]
     },
     "execution_count": 144,
     "metadata": {},
     "output_type": "execute_result"
    }
   ],
   "source": [
    "from sklearn.metrics import accuracy_score\n",
    "model = LogisticRegression()\n",
    "model.fit(X, Y)\n",
    "y_pred = model.predict(testx)\n",
    "accuracy_score(y_pred,testy)"
   ]
  },
  {
   "cell_type": "code",
   "execution_count": 46,
   "id": "d599944c",
   "metadata": {
    "scrolled": true
   },
   "outputs": [
    {
     "data": {
      "text/plain": [
       "1.0"
      ]
     },
     "execution_count": 46,
     "metadata": {},
     "output_type": "execute_result"
    }
   ],
   "source": [
    "from sklearn.metrics import accuracy_score\n",
    "model = RandomForestClassifier()\n",
    "model.fit(X, Y)\n",
    "y_pred = model.predict(testx)\n",
    "accuracy_score(y_pred,testy)"
   ]
  },
  {
   "cell_type": "code",
   "execution_count": 147,
   "id": "44c8f4dc",
   "metadata": {},
   "outputs": [
    {
     "data": {
      "text/plain": [
       "1.0"
      ]
     },
     "execution_count": 147,
     "metadata": {},
     "output_type": "execute_result"
    }
   ],
   "source": [
    "y_test=model.predict(testx)\n",
    "accuracy_score(y_test,testy)"
   ]
  },
  {
   "cell_type": "code",
   "execution_count": 151,
   "id": "2c6835d1",
   "metadata": {},
   "outputs": [
    {
     "name": "stdout",
     "output_type": "stream",
     "text": [
      "Feature: continuous_sneezing, Score: 293.5851677981405\n",
      "Feature: joint_pain, Score: 265.7244419166785\n",
      "Feature: sweating, Score: 362.27544396067964\n",
      "Feature: diarrhoea, Score: 438.0862055758405\n",
      "Feature: loss_of_balance, Score: 277.22112341772134\n"
     ]
    },
    {
     "name": "stderr",
     "output_type": "stream",
     "text": [
      "C:\\Users\\dobri\\anaconda3\\lib\\site-packages\\sklearn\\feature_selection\\_univariate_selection.py:289: RuntimeWarning: invalid value encountered in true_divide\n",
      "  correlation_coefficient /= X_norms\n"
     ]
    }
   ],
   "source": [
    "def select_features(X, y):\n",
    "        selector = SelectKBest(score_func=f_regression, k=5)  # Select the top 5 features\n",
    "        selector.fit(X, y)\n",
    "        selected_features = selector.get_support()\n",
    "        feature_scores = selector.scores_\n",
    "        for feature, score, selected in zip(X.columns, feature_scores, selected_features):\n",
    "            if selected.any():  # Check if any element in selected is True\n",
    "                print(f\"Feature: {feature}, Score: {score}\")\n",
    "select_features(X, Y)"
   ]
  },
  {
   "cell_type": "code",
   "execution_count": 35,
   "id": "2d5a33a6",
   "metadata": {
    "scrolled": false
   },
   "outputs": [],
   "source": [
    "new_data = pd.DataFrame(columns=data.columns)\n"
   ]
  },
  {
   "cell_type": "code",
   "execution_count": 41,
   "id": "0958fa4b",
   "metadata": {},
   "outputs": [],
   "source": [
    "new_data.loc[0] = 0"
   ]
  },
  {
   "cell_type": "code",
   "execution_count": 42,
   "id": "726d2b3d",
   "metadata": {},
   "outputs": [],
   "source": [
    "\n",
    "specific_features = ['itching','skin_rash','nodal_skin_eruptions','continuous_sneezing']\n",
    "for a in new_data.columns:\n",
    "    if a in specific_features:\n",
    "        new_data[a]=1\n",
    "    else:\n",
    "        new_data[a]=0\n"
   ]
  },
  {
   "cell_type": "code",
   "execution_count": 45,
   "id": "02724a39",
   "metadata": {},
   "outputs": [
    {
     "data": {
      "text/html": [
       "<div>\n",
       "<style scoped>\n",
       "    .dataframe tbody tr th:only-of-type {\n",
       "        vertical-align: middle;\n",
       "    }\n",
       "\n",
       "    .dataframe tbody tr th {\n",
       "        vertical-align: top;\n",
       "    }\n",
       "\n",
       "    .dataframe thead th {\n",
       "        text-align: right;\n",
       "    }\n",
       "</style>\n",
       "<table border=\"1\" class=\"dataframe\">\n",
       "  <thead>\n",
       "    <tr style=\"text-align: right;\">\n",
       "      <th></th>\n",
       "      <th>itching</th>\n",
       "      <th>skin_rash</th>\n",
       "      <th>nodal_skin_eruptions</th>\n",
       "      <th>continuous_sneezing</th>\n",
       "      <th>shivering</th>\n",
       "      <th>chills</th>\n",
       "      <th>joint_pain</th>\n",
       "      <th>stomach_pain</th>\n",
       "      <th>acidity</th>\n",
       "      <th>ulcers_on_tongue</th>\n",
       "      <th>...</th>\n",
       "      <th>blackheads</th>\n",
       "      <th>scurring</th>\n",
       "      <th>skin_peeling</th>\n",
       "      <th>silver_like_dusting</th>\n",
       "      <th>small_dents_in_nails</th>\n",
       "      <th>inflammatory_nails</th>\n",
       "      <th>blister</th>\n",
       "      <th>red_sore_around_nose</th>\n",
       "      <th>yellow_crust_ooze</th>\n",
       "      <th>prognosis</th>\n",
       "    </tr>\n",
       "  </thead>\n",
       "  <tbody>\n",
       "    <tr>\n",
       "      <th>0</th>\n",
       "      <td>1</td>\n",
       "      <td>1</td>\n",
       "      <td>1</td>\n",
       "      <td>1</td>\n",
       "      <td>0</td>\n",
       "      <td>0</td>\n",
       "      <td>0</td>\n",
       "      <td>0</td>\n",
       "      <td>0</td>\n",
       "      <td>0</td>\n",
       "      <td>...</td>\n",
       "      <td>0</td>\n",
       "      <td>0</td>\n",
       "      <td>0</td>\n",
       "      <td>0</td>\n",
       "      <td>0</td>\n",
       "      <td>0</td>\n",
       "      <td>0</td>\n",
       "      <td>0</td>\n",
       "      <td>0</td>\n",
       "      <td>0</td>\n",
       "    </tr>\n",
       "  </tbody>\n",
       "</table>\n",
       "<p>1 rows × 133 columns</p>\n",
       "</div>"
      ],
      "text/plain": [
       "   itching  skin_rash  nodal_skin_eruptions  continuous_sneezing  shivering  \\\n",
       "0        1          1                     1                    1          0   \n",
       "\n",
       "   chills  joint_pain  stomach_pain  acidity  ulcers_on_tongue  ...  \\\n",
       "0       0           0             0        0                 0  ...   \n",
       "\n",
       "   blackheads  scurring  skin_peeling  silver_like_dusting  \\\n",
       "0           0         0             0                    0   \n",
       "\n",
       "   small_dents_in_nails  inflammatory_nails  blister  red_sore_around_nose  \\\n",
       "0                     0                   0        0                     0   \n",
       "\n",
       "   yellow_crust_ooze  prognosis  \n",
       "0                  0          0  \n",
       "\n",
       "[1 rows x 133 columns]"
      ]
     },
     "execution_count": 45,
     "metadata": {},
     "output_type": "execute_result"
    }
   ],
   "source": [
    "new_data"
   ]
  },
  {
   "cell_type": "code",
   "execution_count": 46,
   "id": "c4a3fc11",
   "metadata": {},
   "outputs": [],
   "source": [
    "\n",
    "f=new_data.drop(['prognosis'],axis=1)"
   ]
  },
  {
   "cell_type": "code",
   "execution_count": 48,
   "id": "c36ef23f",
   "metadata": {},
   "outputs": [],
   "source": [
    "y=model.predict(f)"
   ]
  },
  {
   "cell_type": "code",
   "execution_count": 49,
   "id": "f3e30590",
   "metadata": {},
   "outputs": [],
   "source": [
    "y=le.inverse_transform(y)"
   ]
  },
  {
   "cell_type": "code",
   "execution_count": 50,
   "id": "0cebf757",
   "metadata": {},
   "outputs": [
    {
     "data": {
      "text/plain": [
       "array(['Fungal infection'], dtype=object)"
      ]
     },
     "execution_count": 50,
     "metadata": {},
     "output_type": "execute_result"
    }
   ],
   "source": [
    "y"
   ]
  },
  {
   "cell_type": "code",
   "execution_count": 1,
   "id": "b85d276c",
   "metadata": {},
   "outputs": [],
   "source": [
    "import pickle"
   ]
  },
  {
   "cell_type": "code",
   "execution_count": 47,
   "id": "44ded406",
   "metadata": {},
   "outputs": [],
   "source": [
    "with open('123.pkl', 'wb') as file:\n",
    "    pickle.dump(model, file)\n"
   ]
  }
 ],
 "metadata": {
  "kernelspec": {
   "display_name": "Python 3 (ipykernel)",
   "language": "python",
   "name": "python3"
  },
  "language_info": {
   "codemirror_mode": {
    "name": "ipython",
    "version": 3
   },
   "file_extension": ".py",
   "mimetype": "text/x-python",
   "name": "python",
   "nbconvert_exporter": "python",
   "pygments_lexer": "ipython3",
   "version": "3.9.13"
  }
 },
 "nbformat": 4,
 "nbformat_minor": 5
}
